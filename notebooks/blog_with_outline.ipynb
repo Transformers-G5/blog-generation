{
 "cells": [
  {
   "cell_type": "code",
   "execution_count": 1,
   "metadata": {},
   "outputs": [
    {
     "name": "stderr",
     "output_type": "stream",
     "text": [
      "/opt/homebrew/Caskroom/miniconda/base/envs/g5-model/lib/python3.8/site-packages/tqdm/auto.py:22: TqdmWarning: IProgress not found. Please update jupyter and ipywidgets. See https://ipywidgets.readthedocs.io/en/stable/user_install.html\n",
      "  from .autonotebook import tqdm as notebook_tqdm\n"
     ]
    }
   ],
   "source": [
    "from transformers import pipeline \n",
    "generator = pipeline('text-generation', model='EleutherAI/gpt-neo-125M') "
   ]
  },
  {
   "cell_type": "code",
   "execution_count": 16,
   "metadata": {},
   "outputs": [],
   "source": [
    "prompt = \"Summer in India\"\n",
    "subPrompt = ['How is summer in india?', 'Tips to fight the heat of summer in India'] "
   ]
  },
  {
   "cell_type": "code",
   "execution_count": 17,
   "metadata": {},
   "outputs": [],
   "source": [
    "def generate_intro(prompt):\n",
    "    res = generator(prompt, max_length=200, do_sample=True, temperature=0.9) \n",
    "    return res[0]['generated_text']"
   ]
  },
  {
   "cell_type": "code",
   "execution_count": 18,
   "metadata": {},
   "outputs": [],
   "source": [
    "def generate_paragraph(prompt):\n",
    "    para = ''\n",
    "    res = generator(prompt, max_length=300, do_sample=True, temperature=0.9) \n",
    "    para = res[0]['generated_text']\n",
    "    return para\n"
   ]
  },
  {
   "cell_type": "code",
   "execution_count": 20,
   "metadata": {},
   "outputs": [
    {
     "name": "stderr",
     "output_type": "stream",
     "text": [
      "Setting `pad_token_id` to `eos_token_id`:50256 for open-end generation.\n",
      "Setting `pad_token_id` to `eos_token_id`:50256 for open-end generation.\n",
      "Setting `pad_token_id` to `eos_token_id`:50256 for open-end generation.\n"
     ]
    },
    {
     "name": "stdout",
     "output_type": "stream",
     "text": [
      "Summer in India\n",
      "Summer in India in December 2015\n",
      "\n",
      "In India, the number of registered children in the age group 18 or below between the ages of 4-12 has increased considerably from 15 in the last two decades to 23 in the year 2013. It was in November 2014 that the number of registered children in the age group 18-24 was increased to 19-35 in year 2013. It was in December 2015 that the number of registered children was 9.5-12 in the age group of 3-14. It was in October 2016 that the total number of registered children of aged 16-20 in the age group of 15-25 has increased by 24% to 35-40. In September, 2016, the number of registered children in the age group of 18-24 in the age group of 3-14 had increased by 14%, the number of registered children in the age group of 3-14 had increased by 12% and the number of registered children in the age group of 18-24 had\n",
      "-------\n",
      "-------\n",
      "How is summer in india?\n",
      "\n",
      "Summer is a time of rebirth and renewal, at the same time it feels like an escape from the world of death. It is an experience of renewal and renewal of life – of living, of seeing, of finding, of feeling, of living.\n",
      "\n",
      "A long, winding and sometimes aching walk through South China and the cities of India, along the border between China and South China (India) in the west and the north is one of the most beautiful pictures in the world, but where the country is often under a cloud (and where we are lucky) we all remember some of the most spectacular places in the world. We think of some of the most magical places in India, such as Pune where you can see in the night the sky with its great red flames and the lights illuminating the fields – something which only happens as the sun sets on this rainy day. There are also more incredible places like Sreej (where you can see the sea) and at Roorkee.\n",
      "\n",
      "With the year in hand, the time to start thinking on the most wonderful places in India and to become better about doing the things we all know and want to do is over. This year is for you and your ideas: January will end the month and then summer will end.\n",
      "\n",
      "You can watch India this week below:\n",
      "\n",
      "Why would we want to do India\n",
      "\n",
      "What are we doing to help make our country different\n",
      "-------\n",
      "Tips to fight the heat of summer in India.\n",
      "\n",
      "Satellite photography\n",
      "\n",
      "I like to take photos of places I have never seen. Mostly in the cities I have visited in the years before the winter and I wanted to focus on the cities I visited in India. I have seen most of the Indian cities I have visited.\n",
      "\n",
      "These are some cities I have visited over the last several years. Most of the pictures I have taken were taken by satellite, but some of the images were taken by hand-held cameras. The images were taken with a handheld camera with a resolution of 5400×640 pixels and a resolution of 1280×720 pixels.\n",
      "\n",
      "In the late 1990s and early 2000s, with a few exceptions, these images were taken using a camera that was custom-made to enable this type of imaging system.\n",
      "\n",
      "Here are some images I have taken with my camera and I have included those images as a sample. Some of the photos are available for purchase at:\n",
      "\n",
      "The pictures appear to be taken from a distance of at least 6 hours in length. These are in bright sun with a blue sky.\n",
      "\n",
      "Of course, the camera doesn't fit the size of the image I took with it in my photograph. The photos look more like 3-D scans taken before the image began taking.\n",
      "\n",
      "I have taken some photos of places that have been heavily damaged while in the last few years. These are many tourist sites I have visited in\n"
     ]
    }
   ],
   "source": [
    "blog = ''\n",
    "intro = generate_intro(prompt)\n",
    "paras = []\n",
    "for sprompt in subPrompt:\n",
    "    para = generate_paragraph(sprompt)\n",
    "    paras.append(para)\n",
    "\n",
    "print(prompt)\n",
    "print(intro)\n",
    "print(\"-------\")\n",
    "for para in paras:\n",
    "    print(\"-------\")\n",
    "    print(para)"
   ]
  },
  {
   "cell_type": "code",
   "execution_count": null,
   "metadata": {},
   "outputs": [],
   "source": []
  }
 ],
 "metadata": {
  "kernelspec": {
   "display_name": "Python 3.8.13 ('g5-model')",
   "language": "python",
   "name": "python3"
  },
  "language_info": {
   "codemirror_mode": {
    "name": "ipython",
    "version": 3
   },
   "file_extension": ".py",
   "mimetype": "text/x-python",
   "name": "python",
   "nbconvert_exporter": "python",
   "pygments_lexer": "ipython3",
   "version": "3.8.15"
  },
  "orig_nbformat": 4,
  "vscode": {
   "interpreter": {
    "hash": "775b3c3335f66202831e90b12d86789418da7c9d5f01dd9c6ccc36e7461c2708"
   }
  }
 },
 "nbformat": 4,
 "nbformat_minor": 2
}
